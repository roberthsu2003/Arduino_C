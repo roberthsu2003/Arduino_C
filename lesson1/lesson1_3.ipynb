{
  "nbformat": 4,
  "nbformat_minor": 0,
  "metadata": {
    "colab": {
      "provenance": [],
      "authorship_tag": "ABX9TyP0OzKvZR7u4Pwi5FYFoXSJ",
      "include_colab_link": true
    },
    "kernelspec": {
      "name": "python3",
      "display_name": "Python 3"
    },
    "language_info": {
      "name": "python"
    }
  },
  "cells": [
    {
      "cell_type": "markdown",
      "metadata": {
        "id": "view-in-github",
        "colab_type": "text"
      },
      "source": [
        "<a href=\"https://colab.research.google.com/github/roberthsu2003/Arduino_C/blob/master/lesson1/lesson1_3.ipynb\" target=\"_parent\"><img src=\"https://colab.research.google.com/assets/colab-badge.svg\" alt=\"Open In Colab\"/></a>"
      ]
    },
    {
      "cell_type": "code",
      "execution_count": null,
      "metadata": {
        "colab": {
          "base_uri": "https://localhost:8080/"
        },
        "id": "GK7Ss-Et-obb",
        "outputId": "2e310f1a-7750-420a-e1a1-14398cd3103e"
      },
      "outputs": [
        {
          "output_type": "stream",
          "name": "stdout",
          "text": [
            "這是python的第1節課\n"
          ]
        }
      ],
      "source": [
        "print(\"這是python的第1節課\")"
      ]
    },
    {
      "cell_type": "markdown",
      "source": [
        "### python的基本資料類型\n",
        "- int\n",
        "- float\n",
        "- str\n",
        "- bool"
      ],
      "metadata": {
        "id": "4y3jcsY5C-R9"
      }
    },
    {
      "cell_type": "code",
      "source": [
        "10 #代表int\n",
        "10.0 #代表float\n",
        "\"10.0\" #代表str\n",
        "'10.0' #代表str\n",
        "True #代表bool\n",
        "False #代表bool"
      ],
      "metadata": {
        "colab": {
          "base_uri": "https://localhost:8080/"
        },
        "id": "TgN_zAeyDm7Q",
        "outputId": "a79872e3-45e7-471f-9dad-45a1858f5595"
      },
      "execution_count": 2,
      "outputs": [
        {
          "output_type": "execute_result",
          "data": {
            "text/plain": [
              "False"
            ]
          },
          "metadata": {},
          "execution_count": 2
        }
      ]
    }
  ]
}